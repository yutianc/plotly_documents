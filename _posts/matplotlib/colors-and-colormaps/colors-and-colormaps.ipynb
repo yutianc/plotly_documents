{
 "cells": [
  {
   "cell_type": "markdown",
   "metadata": {},
   "source": [
    "#### New to Plotly?\n",
    "Plotly's Python library is free and open source! [Get started](https://plot.ly/python/getting-started/) by downloading the client and [reading the primer](https://plot.ly/python/getting-started/).\n",
    "<br>You can set up Plotly to work in [online](https://plot.ly/python/getting-started/#initialization-for-online-plotting) or [offline](https://plot.ly/python/getting-started/#initialization-for-offline-plotting) mode, or in [jupyter notebooks](https://plot.ly/python/getting-started/#start-plotting-online).\n",
    "<br>We also have a quick-reference [cheatsheet](https://images.plot.ly/plotly-documentation/images/python_cheat_sheet.pdf) (new!) to help you get started!"
   ]
  },
  {
   "cell_type": "markdown",
   "metadata": {},
   "source": [
    "#### Version Check\n",
    "Plotly's python package is updated frequently. Run `pip install plotly --upgrade` to use the latest version."
   ]
  },
  {
   "cell_type": "code",
   "execution_count": 1,
   "metadata": {},
   "outputs": [
    {
     "data": {
      "text/plain": [
       "'3.1.1'"
      ]
     },
     "execution_count": 1,
     "metadata": {},
     "output_type": "execute_result"
    }
   ],
   "source": [
    "import plotly\n",
    "plotly.__version__"
   ]
  },
  {
   "cell_type": "markdown",
   "metadata": {},
   "source": [
    "### Named Colors"
   ]
  },
  {
   "cell_type": "code",
   "execution_count": 2,
   "metadata": {},
   "outputs": [
    {
     "data": {
      "text/html": [
       "<iframe id=\"igraph\" scrolling=\"no\" style=\"border:none;\" seamless=\"seamless\" src=\"https://plot.ly/~priyatharsan/795.embed\" height=\"400px\" width=\"550px\"></iframe>"
      ],
      "text/plain": [
       "<plotly.tools.PlotlyDisplay object>"
      ]
     },
     "execution_count": 2,
     "metadata": {},
     "output_type": "execute_result"
    }
   ],
   "source": [
    "import plotly.plotly as py\n",
    "import plotly.graph_objs as go\n",
    "import plotly.tools as tls\n",
    "\n",
    "import matplotlib.pyplot as plt\n",
    "import numpy as np\n",
    "\n",
    "mpl_fig = plt.figure()\n",
    "ax = mpl_fig.add_subplot(111)\n",
    "\n",
    "color_names = [\"r\", \"g\", \"b\", \"peachpuff\", \"fuchsia\"] # Some of the colors\n",
    "\n",
    "ax.set_title('Named Colors in Matplotlib')\n",
    "for i in range(1,6):\n",
    "   x = np.linspace(0,10,1000)\n",
    "   y = np.sin(x*(np.pi/i))\n",
    "   line, = ax.plot(x, y, lw=2, c=color_names[i-1],label='color:'+ color_names[i-1])\n",
    "\n",
    "plotly_fig = tls.mpl_to_plotly( mpl_fig )\n",
    "plotly_fig.layout.showlegend = True\n",
    "plotly_fig.layout.width = 550\n",
    "plotly_fig.layout.height = 400\n",
    "py.iplot(plotly_fig)"
   ]
  },
  {
   "cell_type": "markdown",
   "metadata": {},
   "source": [
    "### Matplotlib Colormap"
   ]
  },
  {
   "cell_type": "code",
   "execution_count": 10,
   "metadata": {},
   "outputs": [
    {
     "data": {
      "text/html": [
       "<iframe id=\"igraph\" scrolling=\"no\" style=\"border:none;\" seamless=\"seamless\" src=\"https://plot.ly/~priyatharsan/809.embed\" height=\"288px\" width=\"432px\"></iframe>"
      ],
      "text/plain": [
       "<plotly.tools.PlotlyDisplay object>"
      ]
     },
     "execution_count": 10,
     "metadata": {},
     "output_type": "execute_result"
    }
   ],
   "source": [
    "import plotly.plotly as py\n",
    "import plotly.graph_objs as go\n",
    "import plotly.tools as tls\n",
    "\n",
    "import matplotlib.pyplot as plt\n",
    "import numpy as np\n",
    "\n",
    "mpl_fig = plt.figure()\n",
    "num = 1000\n",
    "s = 121\n",
    "x1 = np.linspace(-0.5,1,num) + (0.5 - np.random.rand(num))\n",
    "y1 = np.linspace(-5,5,num) + (0.5 - np.random.rand(num))\n",
    "x2 = np.linspace(-0.5,1,num) + (0.5 - np.random.rand(num))\n",
    "y2 = np.linspace(5,-5,num) + (0.5 - np.random.rand(num))\n",
    "x3 = np.linspace(-0.5,1,num) + (0.5 - np.random.rand(num))\n",
    "y3 = (0.5 - np.random.rand(num))\n",
    "\n",
    "ax1 = mpl_fig.add_subplot(221)\n",
    "cb1 = ax1.scatter(x1, y1, c=x1, cmap=plt.cm.get_cmap('Blues'))\n",
    "plt.colorbar(cb1, ax=ax1)\n",
    "ax1.set_title('Blues')\n",
    "\n",
    "ax2 = mpl_fig.add_subplot(222)\n",
    "cb2 = ax2.scatter(x2, y2, c=x2, cmap=plt.cm.get_cmap('RdBu'))\n",
    "plt.colorbar(cb2, ax=ax2)\n",
    "ax2.set_title('RdBu')\n",
    "\n",
    "ax3 = mpl_fig.add_subplot(223)\n",
    "cb3 = ax3.scatter(x3, y3, c=x3, cmap=plt.cm.get_cmap('Dark2'))\n",
    "plt.colorbar(cb3, ax=ax3)\n",
    "ax3.set_xlabel('Dark2')\n",
    "\n",
    "mpl_fig = plt.gcf()\n",
    "plotly_fig = tls.mpl_to_plotly(mpl_fig)\n",
    "py.iplot(plotly_fig)"
   ]
  },
  {
   "cell_type": "markdown",
   "metadata": {},
   "source": [
    "### Matplotlib Colormap Reversed"
   ]
  },
  {
   "cell_type": "code",
   "execution_count": 4,
   "metadata": {},
   "outputs": [
    {
     "data": {
      "text/html": [
       "<iframe id=\"igraph\" scrolling=\"no\" style=\"border:none;\" seamless=\"seamless\" src=\"https://plot.ly/~priyatharsan/799.embed\" height=\"288px\" width=\"432px\"></iframe>"
      ],
      "text/plain": [
       "<plotly.tools.PlotlyDisplay object>"
      ]
     },
     "execution_count": 4,
     "metadata": {},
     "output_type": "execute_result"
    }
   ],
   "source": [
    "import plotly.plotly as py\n",
    "import plotly.graph_objs as go\n",
    "import plotly.tools as tls\n",
    "\n",
    "import matplotlib.pyplot as plt\n",
    "import numpy as np\n",
    "\n",
    "mpl_fig = plt.figure()\n",
    "num = 1000\n",
    "s = 121\n",
    "x1 = np.linspace(-0.5,1,num) + (0.5 - np.random.rand(num))\n",
    "y1 = np.linspace(-5,5,num) + (0.5 - np.random.rand(num))\n",
    "x2 = np.linspace(-0.5,1,num) + (0.5 - np.random.rand(num))\n",
    "y2 = np.linspace(5,-5,num) + (0.5 - np.random.rand(num))\n",
    "x3 = np.linspace(-0.5,1,num) + (0.5 - np.random.rand(num))\n",
    "y3 = (0.5 - np.random.rand(num))\n",
    "\n",
    "ax1 = mpl_fig.add_subplot(221)\n",
    "cb1 = ax1.scatter(x1, y1, c=x1, cmap=plt.cm.get_cmap('Blues_r'))\n",
    "#plt.colorbar(cb1, ax=ax1)\n",
    "ax1.set_title('Reversed Blues')\n",
    "\n",
    "ax2 = mpl_fig.add_subplot(222)\n",
    "cb2 = ax2.scatter(x2, y2, c=x2, cmap=plt.cm.get_cmap('RdBu_r'))\n",
    "#plt.colorbar(cb2, ax=ax2)\n",
    "ax2.set_title('Reversed RdBu')\n",
    "\n",
    "ax3 = mpl_fig.add_subplot(223)\n",
    "cb3 = ax3.scatter(x3, y3, c=x3, cmap=plt.cm.get_cmap('Dark2_r'))\n",
    "#plt.colorbar(cb3, ax=ax3)\n",
    "ax3.set_xlabel('Reversed Dark2')\n",
    "\n",
    "\n",
    "mpl_fig = plt.gcf()\n",
    "plotly_fig = tls.mpl_to_plotly(mpl_fig)\n",
    "py.iplot(plotly_fig)"
   ]
  },
  {
   "cell_type": "markdown",
   "metadata": {},
   "source": [
    "### Setting Colormap Range"
   ]
  },
  {
   "cell_type": "code",
   "execution_count": 5,
   "metadata": {},
   "outputs": [
    {
     "data": {
      "text/html": [
       "<iframe id=\"igraph\" scrolling=\"no\" style=\"border:none;\" seamless=\"seamless\" src=\"https://plot.ly/~priyatharsan/801.embed\" height=\"300px\" width=\"500px\"></iframe>"
      ],
      "text/plain": [
       "<plotly.tools.PlotlyDisplay object>"
      ]
     },
     "execution_count": 5,
     "metadata": {},
     "output_type": "execute_result"
    }
   ],
   "source": [
    "import plotly.plotly as py\n",
    "import plotly.graph_objs as go\n",
    "import plotly.tools as tls\n",
    "\n",
    "import matplotlib.pyplot as plt\n",
    "import numpy as np\n",
    "\n",
    "mpl_fig = plt.figure()\n",
    "ax1 = mpl_fig.add_subplot(121)\n",
    "x = np.linspace(1,10,100)\n",
    "y = np.random.randint(1,10,100)\n",
    "ax1.scatter(x,y, c=x, s=100, cmap=plt.cm.get_cmap('RdBu'))\n",
    "ax1.set_title('Colormap range varying in X Direction')\n",
    "\n",
    "ax2 = mpl_fig.add_subplot(122)\n",
    "ax2.scatter(x,y, c=y, s=100, cmap=plt.cm.get_cmap('RdBu'))\n",
    "ax2.set_title('Colormap range varying in Y Direction')\n",
    "\n",
    "plotly_fig = tls.mpl_to_plotly(mpl_fig)\n",
    "plotly_fig.layout.width = 500\n",
    "plotly_fig.layout.height = 300\n",
    "py.iplot(plotly_fig)"
   ]
  },
  {
   "cell_type": "markdown",
   "metadata": {},
   "source": [
    "### Colorbar Custom Range"
   ]
  },
  {
   "cell_type": "code",
   "execution_count": 6,
   "metadata": {},
   "outputs": [
    {
     "data": {
      "text/html": [
       "<iframe id=\"igraph\" scrolling=\"no\" style=\"border:none;\" seamless=\"seamless\" src=\"https://plot.ly/~priyatharsan/803.embed\" height=\"400px\" width=\"500px\"></iframe>"
      ],
      "text/plain": [
       "<plotly.tools.PlotlyDisplay object>"
      ]
     },
     "execution_count": 6,
     "metadata": {},
     "output_type": "execute_result"
    }
   ],
   "source": [
    "import plotly.plotly as py\n",
    "import plotly.graph_objs as go\n",
    "import plotly.tools as tls\n",
    "\n",
    "import matplotlib.pyplot as plt\n",
    "import numpy as np\n",
    "\n",
    "delta = 0.025\n",
    "x = np.arange(-3.0, 3.0, delta)\n",
    "y = np.arange(-2.0, 2.0, delta)\n",
    "X, Y = np.meshgrid(x, y)\n",
    "Z = np.sin(8*X) + np.cos(8*Y)\n",
    "\n",
    "mpl_fig = plt.figure()\n",
    "plt.title('Setting Colorbar range Manually')\n",
    "\n",
    "plotly_fig = tls.mpl_to_plotly(mpl_fig)\n",
    "\n",
    "plotly_fig.add_trace(dict(type='contour', \n",
    "                           x=x, \n",
    "                           y=y, \n",
    "                           z=Z, \n",
    "                           colorbar=dict(nticks=10, \n",
    "                                         tickmode='array',\n",
    "                                         tickvals=[-2,-1,0,1,2]),\n",
    "                           colorscale='Viridis'\n",
    "                            )\n",
    "                          )\n",
    "\n",
    "plotly_fig.layout.width = 500\n",
    "plotly_fig.layout.height = 400\n",
    "py.iplot(plotly_fig)"
   ]
  },
  {
   "cell_type": "markdown",
   "metadata": {},
   "source": [
    "### Colorbar Custom Size And Ticks"
   ]
  },
  {
   "cell_type": "code",
   "execution_count": 7,
   "metadata": {},
   "outputs": [
    {
     "data": {
      "text/html": [
       "<iframe id=\"igraph\" scrolling=\"no\" style=\"border:none;\" seamless=\"seamless\" src=\"https://plot.ly/~priyatharsan/805.embed\" height=\"300px\" width=\"500px\"></iframe>"
      ],
      "text/plain": [
       "<plotly.tools.PlotlyDisplay object>"
      ]
     },
     "execution_count": 7,
     "metadata": {},
     "output_type": "execute_result"
    }
   ],
   "source": [
    "import plotly.plotly as py\n",
    "import plotly.graph_objs as go\n",
    "import plotly.tools as tls\n",
    "\n",
    "import matplotlib.pyplot as plt\n",
    "import numpy as np\n",
    "\n",
    "delta = 0.025\n",
    "x = np.arange(-3.0, 3.0, delta)\n",
    "y = np.arange(-2.0, 2.0, delta)\n",
    "X, Y = np.meshgrid(x, y)\n",
    "Z = np.sin(8*X) + np.cos(8*Y)\n",
    "\n",
    "mpl_fig = plt.figure()\n",
    "plt.title('Simple Example with Custom Colorbar')\n",
    "\n",
    "plotly_fig = tls.mpl_to_plotly(mpl_fig)\n",
    "\n",
    "custom_colorbar = dict(nticks=10, \n",
    "                       tickangle=20, \n",
    "                       #titlefont=dict(family=Arial, type=sans-serif),\n",
    "                       title=\"Custom Colorbar Title\",\n",
    "                       thickness=50,\n",
    "                       len=1,\n",
    "                       outlinewidth=2.2)\n",
    "\n",
    "plotly_fig.add_traces([dict(type='contour', x=x, y=y, z=Z, colorbar=custom_colorbar)])\n",
    "plotly_fig.layout.width = 500\n",
    "plotly_fig.layout.height = 300\n",
    "py.iplot(plotly_fig)"
   ]
  },
  {
   "cell_type": "markdown",
   "metadata": {},
   "source": [
    "### Matplotlib Colormap With Legend"
   ]
  },
  {
   "cell_type": "code",
   "execution_count": 8,
   "metadata": {},
   "outputs": [
    {
     "data": {
      "text/html": [
       "<iframe id=\"igraph\" scrolling=\"no\" style=\"border:none;\" seamless=\"seamless\" src=\"https://plot.ly/~priyatharsan/807.embed\" height=\"400px\" width=\"500px\"></iframe>"
      ],
      "text/plain": [
       "<plotly.tools.PlotlyDisplay object>"
      ]
     },
     "execution_count": 8,
     "metadata": {},
     "output_type": "execute_result"
    }
   ],
   "source": [
    "import plotly.plotly as py\n",
    "import plotly.graph_objs as go\n",
    "import plotly.tools as tls\n",
    "\n",
    "import matplotlib.pyplot as plt\n",
    "import numpy as np\n",
    "\n",
    "mpl_fig = plt.figure()\n",
    "ax = mpl_fig.add_subplot(111)\n",
    "\n",
    "for i in range(10):\n",
    "    x = np.random.normal(loc=i, size=100)\n",
    "    y = np.random.normal(loc=i, size=100)\n",
    "    ax.scatter(x,y,c=y, cmap=plt.cm.get_cmap('RdBu'), label='Trace {}'.format(i))\n",
    "\n",
    "plotly_fig = tls.mpl_to_plotly(mpl_fig)\n",
    "plotly_fig.layout.showlegend = True\n",
    "plotly_fig.layout.width = 500\n",
    "plotly_fig.layout.height = 400\n",
    "py.iplot(plotly_fig)"
   ]
  },
  {
   "cell_type": "markdown",
   "metadata": {},
   "source": [
    "#### Reference"
   ]
  },
  {
   "cell_type": "markdown",
   "metadata": {},
   "source": [
    "See [https://plot.ly/python/reference/](https://plot.ly/python/reference/) for more information and chart attribute options!"
   ]
  },
  {
   "cell_type": "code",
   "execution_count": 12,
   "metadata": {},
   "outputs": [
    {
     "data": {
      "text/html": [
       "<link href=\"//fonts.googleapis.com/css?family=Open+Sans:600,400,300,200|Inconsolata|Ubuntu+Mono:400,700\" rel=\"stylesheet\" type=\"text/css\" />"
      ],
      "text/plain": [
       "<IPython.core.display.HTML object>"
      ]
     },
     "metadata": {},
     "output_type": "display_data"
    },
    {
     "data": {
      "text/html": [
       "<link rel=\"stylesheet\" type=\"text/css\" href=\"http://help.plot.ly/documentation/all_static/css/ipython-notebook-custom.css\">"
      ],
      "text/plain": [
       "<IPython.core.display.HTML object>"
      ]
     },
     "metadata": {},
     "output_type": "display_data"
    },
    {
     "name": "stdout",
     "output_type": "stream",
     "text": [
      "Collecting git+https://github.com/plotly/publisher.git\n",
      "  Cloning https://github.com/plotly/publisher.git to c:\\users\\thars\\appdata\\local\\temp\\pip-req-build-wvio0k\n",
      "Building wheels for collected packages: publisher\n",
      "  Running setup.py bdist_wheel for publisher: started\n",
      "  Running setup.py bdist_wheel for publisher: finished with status 'done'\n",
      "  Stored in directory: c:\\users\\thars\\appdata\\local\\temp\\pip-ephem-wheel-cache-uudoav\\wheels\\99\\3e\\a0\\fbd22ba24cca72bdbaba53dbc23c1768755fb17b3af0f33966\n",
      "Successfully built publisher\n",
      "Installing collected packages: publisher\n",
      "  Found existing installation: publisher 0.11\n",
      "    Uninstalling publisher-0.11:\n",
      "      Successfully uninstalled publisher-0.11\n",
      "Successfully installed publisher-0.11\n"
     ]
    }
   ],
   "source": [
    "from IPython.display import display, HTML\n",
    "\n",
    "display(HTML('<link href=\"//fonts.googleapis.com/css?family=Open+Sans:600,400,300,200|Inconsolata|Ubuntu+Mono:400,700\" rel=\"stylesheet\" type=\"text/css\" />'))\n",
    "display(HTML('<link rel=\"stylesheet\" type=\"text/css\" href=\"http://help.plot.ly/documentation/all_static/css/ipython-notebook-custom.css\">'))\n",
    "\n",
    "! pip install git+https://github.com/plotly/publisher.git --upgrade\n",
    "import publisher\n",
    "publisher.publish(\n",
    "    'colors-and-colormaps.ipynb', 'matplotlib/colors-and-colormaps/', 'Colors and Colormaps',\n",
    "    'Colors and Colorscale options in matplotlib. Examples of different colors and colormaps available in matplotlib.',\n",
    "    title = 'Matplotlib Colors and Colormaps | Examples | Plotly',\n",
    "    has_thumbnail='true', thumbnail='thumbnail/colors-and-colormaps.jpg', \n",
    "    language='matplotlib', \n",
    "    page_type='example_index',\n",
    "    display_as='basic', order=8,\n",
    "    ipynb= '~notebook_demo/228')"
   ]
  },
  {
   "cell_type": "code",
   "execution_count": null,
   "metadata": {},
   "outputs": [],
   "source": []
  }
 ],
 "metadata": {
  "kernelspec": {
   "display_name": "Python 2",
   "language": "python",
   "name": "python2"
  },
  "language_info": {
   "codemirror_mode": {
    "name": "ipython",
    "version": 2
   },
   "file_extension": ".py",
   "mimetype": "text/x-python",
   "name": "python",
   "nbconvert_exporter": "python",
   "pygments_lexer": "ipython2",
   "version": "2.7.14"
  }
 },
 "nbformat": 4,
 "nbformat_minor": 2
}
