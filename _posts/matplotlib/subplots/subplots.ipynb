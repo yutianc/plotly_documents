{
 "cells": [
  {
   "cell_type": "markdown",
   "metadata": {},
   "source": [
    "#### New to Plotly?\n",
    "Plotly's Python library is free and open source! [Get started](https://plot.ly/python/getting-started/) by downloading the client and [reading the primer](https://plot.ly/python/getting-started/).\n",
    "<br>You can set up Plotly to work in [online](https://plot.ly/python/getting-started/#initialization-for-online-plotting) or [offline](https://plot.ly/python/getting-started/#initialization-for-offline-plotting) mode, or in [jupyter notebooks](https://plot.ly/python/getting-started/#start-plotting-online).\n",
    "<br>We also have a quick-reference [cheatsheet](https://images.plot.ly/plotly-documentation/images/python_cheat_sheet.pdf) (new!) to help you get started!"
   ]
  },
  {
   "cell_type": "markdown",
   "metadata": {},
   "source": [
    "#### Version Check\n",
    "Plotly's python package is updated frequently. Run `pip install plotly --upgrade` to use the latest version."
   ]
  },
  {
   "cell_type": "code",
   "execution_count": 1,
   "metadata": {},
   "outputs": [
    {
     "data": {
      "text/plain": [
       "'3.1.1'"
      ]
     },
     "execution_count": 1,
     "metadata": {},
     "output_type": "execute_result"
    }
   ],
   "source": [
    "import plotly\n",
    "plotly.__version__"
   ]
  },
  {
   "cell_type": "markdown",
   "metadata": {},
   "source": [
    "#### Simple Subplots"
   ]
  },
  {
   "cell_type": "code",
   "execution_count": 2,
   "metadata": {},
   "outputs": [
    {
     "data": {
      "text/html": [
       "<iframe id=\"igraph\" scrolling=\"no\" style=\"border:none;\" seamless=\"seamless\" src=\"https://plot.ly/~priyatharsan/478.embed\" height=\"288px\" width=\"432px\"></iframe>"
      ],
      "text/plain": [
       "<plotly.tools.PlotlyDisplay object>"
      ]
     },
     "execution_count": 2,
     "metadata": {},
     "output_type": "execute_result"
    }
   ],
   "source": [
    "import matplotlib.pyplot as plt\n",
    "\n",
    "import plotly.plotly as py\n",
    "import plotly.tools as tls\n",
    "# Learn about API authentication here: https://plot.ly/python/getting-started\n",
    "# Find your api_key here: https://plot.ly/settings/api\n",
    "\n",
    "fig = plt.figure()\n",
    "\n",
    "ax1 = fig.add_subplot(221)\n",
    "ax1.plot([1,2,3,4,5], [10,5,10,5,10], 'r-')\n",
    "\n",
    "ax2 = fig.add_subplot(222)\n",
    "ax2.plot([1,2,3,4], [1,4,9,16], 'k-')\n",
    "\n",
    "ax3 = fig.add_subplot(223)\n",
    "ax3.plot([1,2,3,4], [1,10,100,1000], 'b-')\n",
    "\n",
    "ax4 = fig.add_subplot(224)\n",
    "ax4.plot([1,2,3,4], [0,0,1,1], 'g-')\n",
    "\n",
    "\n",
    "plt.tight_layout()\n",
    "fig = plt.gcf()\n",
    "\n",
    "plotly_fig = tls.mpl_to_plotly( fig )\n",
    "plotly_fig['layout']['title'] = 'Simple Subplot Example Title'\n",
    "plotly_fig['layout']['margin'].update({'t':40})\n",
    "\n",
    "py.iplot(plotly_fig)"
   ]
  },
  {
   "cell_type": "markdown",
   "metadata": {},
   "source": [
    "#### Subplots with Variable widths and heights"
   ]
  },
  {
   "cell_type": "code",
   "execution_count": 3,
   "metadata": {},
   "outputs": [
    {
     "data": {
      "text/html": [
       "<iframe id=\"igraph\" scrolling=\"no\" style=\"border:none;\" seamless=\"seamless\" src=\"https://plot.ly/~priyatharsan/480.embed\" height=\"288px\" width=\"432px\"></iframe>"
      ],
      "text/plain": [
       "<plotly.tools.PlotlyDisplay object>"
      ]
     },
     "execution_count": 3,
     "metadata": {},
     "output_type": "execute_result"
    }
   ],
   "source": [
    "import matplotlib.pyplot as plt\n",
    "from matplotlib import gridspec\n",
    "\n",
    "import plotly.plotly as py\n",
    "# Learn about API authentication here: https://plot.ly/python/getting-started\n",
    "# Find your api_key here: https://plot.ly/settings/api\n",
    "\n",
    "fig = plt.figure()\n",
    "gs = gridspec.GridSpec(3, 3)\n",
    "ax1 = fig.add_subplot(gs[0,:])\n",
    "ax1.plot([1,2,3,4,5], [10,5,10,5,10], 'r-')\n",
    "ax2 = fig.add_subplot(gs[1,:-1])\n",
    "ax2.plot([1,2,3,4], [1,4,9,16], 'k-')\n",
    "ax3 = fig.add_subplot(gs[1:, 2])\n",
    "ax3.plot([1,2,3,4], [1,10,100,1000], 'b-')\n",
    "ax4 = fig.add_subplot(gs[2,0])\n",
    "ax4.plot([1,2,3,4], [0,0,1,1], 'g-')\n",
    "ax5 = fig.add_subplot(gs[2,1])\n",
    "ax5.plot([1,2,3,4], [1,0,0,1], 'c-')\n",
    "gs.update(wspace=0.5, hspace=0.5)\n",
    "\n",
    "fig = plt.gcf()\n",
    "\n",
    "plotly_fig = tls.mpl_to_plotly( fig )\n",
    "plotly_fig['layout']['title'] = 'Subplots with variable widths and heights'\n",
    "plotly_fig['layout']['margin'].update({'t':40})\n",
    "\n",
    "py.iplot(plotly_fig)"
   ]
  },
  {
   "cell_type": "markdown",
   "metadata": {},
   "source": [
    "#### Multiple Plots on Same Axis (Shared Axis)"
   ]
  },
  {
   "cell_type": "code",
   "execution_count": 5,
   "metadata": {},
   "outputs": [
    {
     "data": {
      "text/html": [
       "<iframe id=\"igraph\" scrolling=\"no\" style=\"border:none;\" seamless=\"seamless\" src=\"https://plot.ly/~priyatharsan/484.embed\" height=\"288px\" width=\"432px\"></iframe>"
      ],
      "text/plain": [
       "<plotly.tools.PlotlyDisplay object>"
      ]
     },
     "execution_count": 5,
     "metadata": {},
     "output_type": "execute_result"
    }
   ],
   "source": [
    "import matplotlib.pyplot as plt\n",
    "\n",
    "\n",
    "import plotly.plotly as py\n",
    "import plotly.tools as tls\n",
    "import numpy as np\n",
    "# Learn about API authentication here: https://plot.ly/python/getting-started\n",
    "# Find your api_key here: https://plot.ly/settings/api\n",
    "\n",
    "t = np.arange(0.01, 5.0, 0.01)\n",
    "s1 = np.sin(2*np.pi*t)\n",
    "s2 = np.exp(-t)\n",
    "s3 = np.sin(4*np.pi*t)\n",
    "\n",
    "ax1 = plt.subplot(311)\n",
    "plt.plot(t, s1)\n",
    "plt.setp(ax1.get_xticklabels(), fontsize=6)\n",
    "\n",
    "# share x only\n",
    "ax2 = plt.subplot(312, sharex=ax1)\n",
    "plt.plot(t, s2)\n",
    "# make these tick labels invisible\n",
    "plt.setp(ax2.get_xticklabels(), visible=False)\n",
    "\n",
    "# share x and y\n",
    "ax3 = plt.subplot(313, sharex=ax1, sharey=ax1)\n",
    "plt.plot(t, s3)\n",
    "plt.xlim(0.01, 5.0)\n",
    "fig = plt.gcf()\n",
    "\n",
    "plotly_fig = tls.mpl_to_plotly(fig)\n",
    "plotly_fig['layout']['title'] = 'Subplots with shared axis'\n",
    "py.iplot(plotly_fig)"
   ]
  },
  {
   "cell_type": "markdown",
   "metadata": {},
   "source": [
    "#### Reference\n",
    "See https://plot.ly/python/subplots/ for more information and chart attribute options!"
   ]
  },
  {
   "cell_type": "code",
   "execution_count": 6,
   "metadata": {},
   "outputs": [
    {
     "data": {
      "text/html": [
       "<link href=\"//fonts.googleapis.com/css?family=Open+Sans:600,400,300,200|Inconsolata|Ubuntu+Mono:400,700\" rel=\"stylesheet\" type=\"text/css\" />"
      ],
      "text/plain": [
       "<IPython.core.display.HTML object>"
      ]
     },
     "metadata": {},
     "output_type": "display_data"
    },
    {
     "data": {
      "text/html": [
       "<link rel=\"stylesheet\" type=\"text/css\" href=\"http://help.plot.ly/documentation/all_static/css/ipython-notebook-custom.css\">"
      ],
      "text/plain": [
       "<IPython.core.display.HTML object>"
      ]
     },
     "metadata": {},
     "output_type": "display_data"
    },
    {
     "name": "stdout",
     "output_type": "stream",
     "text": [
      "Collecting git+https://github.com/plotly/publisher.git\n",
      "  Cloning https://github.com/plotly/publisher.git to c:\\users\\thars\\appdata\\local\\temp\\pip-req-build-yenioe\n",
      "Building wheels for collected packages: publisher\n",
      "  Running setup.py bdist_wheel for publisher: started\n",
      "  Running setup.py bdist_wheel for publisher: finished with status 'done'\n",
      "  Stored in directory: c:\\users\\thars\\appdata\\local\\temp\\pip-ephem-wheel-cache-pp8qur\\wheels\\99\\3e\\a0\\fbd22ba24cca72bdbaba53dbc23c1768755fb17b3af0f33966\n",
      "Successfully built publisher\n",
      "Installing collected packages: publisher\n",
      "  Found existing installation: publisher 0.11\n",
      "    Uninstalling publisher-0.11:\n",
      "      Successfully uninstalled publisher-0.11\n",
      "Successfully installed publisher-0.11\n"
     ]
    },
    {
     "name": "stderr",
     "output_type": "stream",
     "text": [
      "C:\\Anaconda\\Anaconda2\\lib\\site-packages\\IPython\\nbconvert.py:13: ShimWarning:\n",
      "\n",
      "The `IPython.nbconvert` package has been deprecated since IPython 4.0. You should import from nbconvert instead.\n",
      "\n",
      "C:\\Anaconda\\Anaconda2\\lib\\site-packages\\publisher\\publisher.py:53: UserWarning:\n",
      "\n",
      "Did you \"Save\" this notebook before running this command? Remember to save, always save.\n",
      "\n"
     ]
    }
   ],
   "source": [
    "from IPython.display import display, HTML\n",
    "\n",
    "display(HTML('<link href=\"//fonts.googleapis.com/css?family=Open+Sans:600,400,300,200|Inconsolata|Ubuntu+Mono:400,700\" rel=\"stylesheet\" type=\"text/css\" />'))\n",
    "display(HTML('<link rel=\"stylesheet\" type=\"text/css\" href=\"http://help.plot.ly/documentation/all_static/css/ipython-notebook-custom.css\">'))\n",
    "\n",
    "! pip install git+https://github.com/plotly/publisher.git --upgrade\n",
    "import publisher\n",
    "publisher.publish(\n",
    "    'subplots.ipynb', 'matplotlib/subplots/', 'Subplots',\n",
    "    'How to make your-tutorial-chart plots in Python with Plotly.',\n",
    "    title = 'Matplotlib Subplots | Plotly',\n",
    "    has_thumbnail='true', thumbnail='thumbnail/subplots.jpg',\n",
    "    language='matplotlib',\n",
    "    page_type='example_index',\n",
    "    display_as='basic', ipynb='~notebook_demo/237')"
   ]
  },
  {
   "cell_type": "code",
   "execution_count": null,
   "metadata": {},
   "outputs": [],
   "source": []
  }
 ],
 "metadata": {
  "kernelspec": {
   "display_name": "Python 2",
   "language": "python",
   "name": "python2"
  },
  "language_info": {
   "codemirror_mode": {
    "name": "ipython",
    "version": 2
   },
   "file_extension": ".py",
   "mimetype": "text/x-python",
   "name": "python",
   "nbconvert_exporter": "python",
   "pygments_lexer": "ipython2",
   "version": "2.7.14"
  }
 },
 "nbformat": 4,
 "nbformat_minor": 2
}
