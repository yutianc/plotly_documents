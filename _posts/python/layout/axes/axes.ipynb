{
 "cells": [
  {
   "cell_type": "markdown",
   "metadata": {},
   "source": [
    "#### New to Plotly?\n",
    "Plotly's Python library is free and open source! [Get started](https://plot.ly/python/getting-started/) by downloading the client and [reading the primer](https://plot.ly/python/getting-started/).\n",
    "<br>You can set up Plotly to work in [online](https://plot.ly/python/getting-started/#initialization-for-online-plotting) or [offline](https://plot.ly/python/getting-started/#initialization-for-offline-plotting) mode, or in [jupyter notebooks](https://plot.ly/python/getting-started/#start-plotting-online).\n",
    "<br>We also have a quick-reference [cheatsheet](https://images.plot.ly/plotly-documentation/images/python_cheat_sheet.pdf) (new!) to help you get started!"
   ]
  },
  {
   "cell_type": "markdown",
   "metadata": {},
   "source": [
    "Learn about API authentication here: https://plot.ly/python/getting-started\n",
    "Find your api_key here: https://plot.ly/settings/api"
   ]
  },
  {
   "cell_type": "markdown",
   "metadata": {},
   "source": [
    "#### Toggling Axes Lines, Ticks, Labels, and Autorange"
   ]
  },
  {
   "cell_type": "code",
   "execution_count": 1,
   "metadata": {},
   "outputs": [
    {
     "data": {
      "text/html": [
       "<iframe id=\"igraph\" scrolling=\"no\" style=\"border:none;\" seamless=\"seamless\" src=\"https://plot.ly/~PythonPlotBot/2054.embed\" height=\"525px\" width=\"100%\"></iframe>"
      ],
      "text/plain": [
       "<plotly.tools.PlotlyDisplay object>"
      ]
     },
     "execution_count": 1,
     "metadata": {},
     "output_type": "execute_result"
    }
   ],
   "source": [
    "import plotly.plotly as py\n",
    "import plotly.graph_objs as go\n",
    "\n",
    "trace1 = go.Scatter(\n",
    "    x=[0, 1, 2, 3, 4, 5, 6, 7, 8],\n",
    "    y=[8, 7, 6, 5, 4, 3, 2, 1, 0]\n",
    ")\n",
    "trace2 = go.Scatter(\n",
    "    x=[0, 1, 2, 3, 4, 5, 6, 7, 8],\n",
    "    y=[0, 1, 2, 3, 4, 5, 6, 7, 8]\n",
    ")\n",
    "data = [trace1, trace2]\n",
    "layout = go.Layout(\n",
    "    xaxis=dict(\n",
    "        autorange=True,\n",
    "        showgrid=False,\n",
    "        zeroline=False,\n",
    "        showline=False,\n",
    "        ticks='',\n",
    "        showticklabels=False\n",
    "    ),\n",
    "    yaxis=dict(\n",
    "        autorange=True,\n",
    "        showgrid=False,\n",
    "        zeroline=False,\n",
    "        showline=False,\n",
    "        ticks='',\n",
    "        showticklabels=False\n",
    "    )\n",
    ")\n",
    "fig = go.Figure(data=data, layout=layout)\n",
    "py.iplot(fig, filename='axes-booleans')"
   ]
  },
  {
   "cell_type": "markdown",
   "metadata": {},
   "source": [
    "#### Tick Placement, Color, and Style"
   ]
  },
  {
   "cell_type": "code",
   "execution_count": 3,
   "metadata": {},
   "outputs": [
    {
     "data": {
      "text/html": [
       "<iframe id=\"igraph\" scrolling=\"no\" style=\"border:none;\" seamless=\"seamless\" src=\"https://plot.ly/~PythonPlotBot/2056.embed\" height=\"525px\" width=\"100%\"></iframe>"
      ],
      "text/plain": [
       "<plotly.tools.PlotlyDisplay object>"
      ]
     },
     "execution_count": 3,
     "metadata": {},
     "output_type": "execute_result"
    }
   ],
   "source": [
    "import plotly.plotly as py\n",
    "import plotly.graph_objs as go\n",
    "\n",
    "trace1 = go.Scatter(\n",
    "    x=[0, 1, 2, 3, 4, 5, 6, 7, 8],\n",
    "    y=[8, 7, 6, 5, 4, 3, 2, 1, 0]\n",
    ")\n",
    "trace2 = go.Scatter(\n",
    "    x=[0, 1, 2, 3, 4, 5, 6, 7, 8],\n",
    "    y=[0, 1, 2, 3, 4, 5, 6, 7, 8]\n",
    ")\n",
    "data = [trace1, trace2]\n",
    "layout = go.Layout(\n",
    "    xaxis=dict(\n",
    "        tickmode='linear',\n",
    "        ticks='outside',\n",
    "        tick0=0,\n",
    "        dtick=0.25,\n",
    "        ticklen=8,\n",
    "        tickwidth=4,\n",
    "        tickcolor='#000'\n",
    "    ),\n",
    "    yaxis=dict(\n",
    "        tickmode='linear',\n",
    "        ticks='outside',\n",
    "        tick0=0,\n",
    "        dtick=0.25,\n",
    "        ticklen=8,\n",
    "        tickwidth=4,\n",
    "        tickcolor='#000'\n",
    "    )\n",
    ")\n",
    "fig = go.Figure(data=data, layout=layout)\n",
    "py.iplot(fig, filename='axes-ticks')"
   ]
  },
  {
   "cell_type": "markdown",
   "metadata": {},
   "source": [
    "#### Set and Style Axes Title Labels and Ticks"
   ]
  },
  {
   "cell_type": "code",
   "execution_count": 4,
   "metadata": {},
   "outputs": [
    {
     "data": {
      "text/html": [
       "<iframe id=\"igraph\" scrolling=\"no\" style=\"border:none;\" seamless=\"seamless\" src=\"https://plot.ly/~PythonPlotBot/2058.embed\" height=\"525px\" width=\"100%\"></iframe>"
      ],
      "text/plain": [
       "<plotly.tools.PlotlyDisplay object>"
      ]
     },
     "execution_count": 4,
     "metadata": {},
     "output_type": "execute_result"
    }
   ],
   "source": [
    "import plotly.plotly as py\n",
    "import plotly.graph_objs as go\n",
    "\n",
    "trace1 = go.Scatter(\n",
    "    x=[0, 1, 2, 3, 4, 5, 6, 7, 8],\n",
    "    y=[8, 7, 6, 5, 4, 3, 2, 1, 0]\n",
    ")\n",
    "trace2 = go.Scatter(\n",
    "    x=[0, 1, 2, 3, 4, 5, 6, 7, 8],\n",
    "    y=[0, 1, 2, 3, 4, 5, 6, 7, 8]\n",
    ")\n",
    "data = [trace1, trace2]\n",
    "layout = go.Layout(\n",
    "    xaxis=dict(\n",
    "        title='AXIS TITLE',\n",
    "        titlefont=dict(\n",
    "            family='Arial, sans-serif',\n",
    "            size=18,\n",
    "            color='lightgrey'\n",
    "        ),\n",
    "        showticklabels=True,\n",
    "        tickangle=45,\n",
    "        tickfont=dict(\n",
    "            family='Old Standard TT, serif',\n",
    "            size=14,\n",
    "            color='black'\n",
    "        ),\n",
    "        exponentformat='e',\n",
    "        showexponent='all'\n",
    "    ),\n",
    "    yaxis=dict(\n",
    "        title='AXIS TITLE',\n",
    "        titlefont=dict(\n",
    "            family='Arial, sans-serif',\n",
    "            size=18,\n",
    "            color='lightgrey'\n",
    "        ),\n",
    "        showticklabels=True,\n",
    "        tickangle=45,\n",
    "        tickfont=dict(\n",
    "            family='Old Standard TT, serif',\n",
    "            size=14,\n",
    "            color='black'\n",
    "        ),\n",
    "        exponentformat='e',\n",
    "        showexponent='all'\n",
    "    )\n",
    ")\n",
    "fig = go.Figure(data=data, layout=layout)\n",
    "py.iplot(fig, filename='axes-labels')"
   ]
  },
  {
   "cell_type": "markdown",
   "metadata": {},
   "source": [
    "#### Styling and Coloring Axes and the Zero-Line"
   ]
  },
  {
   "cell_type": "code",
   "execution_count": 5,
   "metadata": {},
   "outputs": [
    {
     "data": {
      "text/html": [
       "<iframe id=\"igraph\" scrolling=\"no\" style=\"border:none;\" seamless=\"seamless\" src=\"https://plot.ly/~PythonPlotBot/2060.embed\" height=\"525px\" width=\"100%\"></iframe>"
      ],
      "text/plain": [
       "<plotly.tools.PlotlyDisplay object>"
      ]
     },
     "execution_count": 5,
     "metadata": {},
     "output_type": "execute_result"
    }
   ],
   "source": [
    "import plotly.plotly as py\n",
    "import plotly.graph_objs as go\n",
    "\n",
    "trace1 = go.Scatter(\n",
    "    x=[0, 1, 2, 3, 4, 5, 6, 7, 8],\n",
    "    y=[8, 7, 6, 5, 4, 3, 2, 1, 0]\n",
    ")\n",
    "trace2 = go.Scatter(\n",
    "    x=[0, 1, 2, 3, 4, 5, 6, 7, 8],\n",
    "    y=[0, 1, 2, 3, 4, 5, 6, 7, 8]\n",
    ")\n",
    "data = [trace1, trace2]\n",
    "layout = go.Layout(\n",
    "    xaxis=dict(\n",
    "        showgrid=True,\n",
    "        zeroline=True,\n",
    "        showline=True,\n",
    "        mirror='ticks',\n",
    "        gridcolor='#bdbdbd',\n",
    "        gridwidth=2,\n",
    "        zerolinecolor='#969696',\n",
    "        zerolinewidth=4,\n",
    "        linecolor='#636363',\n",
    "        linewidth=6\n",
    "    ),\n",
    "    yaxis=dict(\n",
    "        showgrid=True,\n",
    "        zeroline=True,\n",
    "        showline=True,\n",
    "        mirror='ticks',\n",
    "        gridcolor='#bdbdbd',\n",
    "        gridwidth=2,\n",
    "        zerolinecolor='#969696',\n",
    "        zerolinewidth=4,\n",
    "        linecolor='#636363',\n",
    "        linewidth=6\n",
    "    )\n",
    ")\n",
    "fig = go.Figure(data=data, layout=layout)\n",
    "py.iplot(fig, filename='axes-lines')"
   ]
  },
  {
   "cell_type": "markdown",
   "metadata": {},
   "source": [
    "#### Setting the Range of Axes Manually"
   ]
  },
  {
   "cell_type": "code",
   "execution_count": 6,
   "metadata": {},
   "outputs": [
    {
     "data": {
      "text/html": [
       "<iframe id=\"igraph\" scrolling=\"no\" style=\"border:none;\" seamless=\"seamless\" src=\"https://plot.ly/~PythonPlotBot/2062.embed\" height=\"525px\" width=\"100%\"></iframe>"
      ],
      "text/plain": [
       "<plotly.tools.PlotlyDisplay object>"
      ]
     },
     "execution_count": 6,
     "metadata": {},
     "output_type": "execute_result"
    }
   ],
   "source": [
    "import plotly.plotly as py\n",
    "import plotly.graph_objs as go\n",
    "\n",
    "trace1 = go.Scatter(\n",
    "    x=[0, 1, 2, 3, 4, 5, 6, 7, 8],\n",
    "    y=[8, 7, 6, 5, 4, 3, 2, 1, 0]\n",
    ")\n",
    "trace2 = go.Scatter(\n",
    "    x=[0, 1, 2, 3, 4, 5, 6, 7, 8],\n",
    "    y=[0, 1, 2, 3, 4, 5, 6, 7, 8]\n",
    ")\n",
    "data = [trace1, trace2]\n",
    "layout = go.Layout(\n",
    "    xaxis=dict(\n",
    "        range=[2, 5]\n",
    "    ),\n",
    "    yaxis=dict(\n",
    "        range=[2, 5]\n",
    "    )\n",
    ")\n",
    "fig = go.Figure(data=data, layout=layout)\n",
    "py.iplot(fig, filename='axes-range-manual')"
   ]
  },
  {
   "cell_type": "markdown",
   "metadata": {},
   "source": [
    "#### Subcategory Axes"
   ]
  },
  {
   "cell_type": "code",
   "execution_count": 7,
   "metadata": {},
   "outputs": [
    {
     "data": {
      "text/html": [
       "<iframe id=\"igraph\" scrolling=\"no\" style=\"border:none;\" seamless=\"seamless\" src=\"https://plot.ly/~PythonPlotBot/2474.embed\" height=\"400px\" width=\"600px\"></iframe>"
      ],
      "text/plain": [
       "<plotly.tools.PlotlyDisplay object>"
      ]
     },
     "execution_count": 7,
     "metadata": {},
     "output_type": "execute_result"
    }
   ],
   "source": [
    "import plotly.plotly as py\n",
    "import plotly.graph_objs as go\n",
    "\n",
    "trace1 = go.Box(\n",
    "  x = [2, 3, 1, 5],\n",
    "  y = [\"A\", \"A\", \"A\", \"A\"],\n",
    "  line = dict(color = 'gray'),\n",
    "  name = \"A\",\n",
    "  orientation = \"h\"\n",
    ")\n",
    "\n",
    "trace2 = go.Box(\n",
    "  x = [8, 3, 6, 5],\n",
    "  y = [\"B\", \"B\", \"B\", \"B\"],\n",
    "  line = dict(color = 'gray'),\n",
    "  name = \"B\",\n",
    "  orientation = \"h\"\n",
    ")\n",
    "\n",
    "trace3 = go.Box(\n",
    "  x = [2, 3, 2, 5],\n",
    "  y = [\"C\", \"C\", \"C\", \"C\"],\n",
    "  line = dict(color = 'gray'),\n",
    "  name = \"C\",\n",
    "  orientation = \"h\"\n",
    ")\n",
    "\n",
    "trace4 = go.Box(\n",
    "  x = [7.5, 3, 6, 4],\n",
    "  y = [\"D\", \"D\", \"D\", \"D\"],\n",
    "  line = dict(color = 'gray'),\n",
    "  name = \"D\",\n",
    "  orientation = \"h\"\n",
    ")\n",
    "\n",
    "data = [trace1, trace2, trace3, trace4]\n",
    "\n",
    "layout = go.Layout(\n",
    "  annotations = [\n",
    "    dict(\n",
    "      x = -0.0951769406393,\n",
    "      y = 1.06972670892,\n",
    "      showarrow = False,\n",
    "      text = \"Subgroup\",\n",
    "      xref = \"paper\",\n",
    "      yref = \"paper\"\n",
    "    ),\n",
    "    dict(\n",
    "      x = -0.235516552511,\n",
    "      y = 1.07060587474,\n",
    "      showarrow = False,\n",
    "      text = \"Group\",\n",
    "      xref = \"paper\",\n",
    "      yref = \"paper\"\n",
    "    ),\n",
    "    dict(\n",
    "      x = -0.235516552511,\n",
    "      y = 0.922906017856,\n",
    "      showarrow = False,\n",
    "      text = \"One\",\n",
    "      xref = \"paper\",\n",
    "      yref = \"paper\"\n",
    "    ),\n",
    "    dict(\n",
    "      x = -0.235516552511,\n",
    "      y = 0.375,\n",
    "      showarrow = False,\n",
    "      text = \"Two\",\n",
    "      xref = \"paper\",\n",
    "      yref = \"paper\"\n",
    "    )\n",
    "  ],\n",
    "  height = 400,\n",
    "  hovermode = \"closest\",\n",
    "  legend = dict(\n",
    "    x = 0.986145833333,\n",
    "    y = 0.936263886049\n",
    "  ),\n",
    "  margin = dict(\n",
    "    r = 10,\n",
    "    t = 25,\n",
    "    b = 40,\n",
    "    l = 110\n",
    "  ),\n",
    "  shapes = [\n",
    "    dict(\n",
    "      line = dict(\n",
    "        color = \"rgba(68, 68, 68, 0.5)\",\n",
    "        width = 1\n",
    "      ),\n",
    "      type = \"line\",\n",
    "      x0 = -0.3,\n",
    "      x1 = 1.2,\n",
    "      xref = \"paper\",\n",
    "      y0 = 0.5,\n",
    "      y1 = 0.5,\n",
    "      yref = \"paper\"\n",
    "    ),\n",
    "    dict(\n",
    "      line = dict(\n",
    "        color = \"rgba(68, 68, 68, 0.63)\",\n",
    "        width = 1\n",
    "      ),\n",
    "      type = \"line\",\n",
    "      x0 = -0.3,\n",
    "      x1 = 1.2,\n",
    "      xref = \"paper\",\n",
    "      y0 = 1,\n",
    "      y1 = 1,\n",
    "      yref = \"paper\"\n",
    "    )\n",
    "  ],\n",
    "  showlegend = True,\n",
    "  title = \"\",\n",
    "  width = 600,\n",
    "  xaxis = dict(\n",
    "    domain = [0, 1]\n",
    "  ),\n",
    "  yaxis = dict(\n",
    "    autorange = True,\n",
    "    categoryorder = \"category descending\",\n",
    "    domain = [0, 1],\n",
    "    range = [-0.5, 3.5],\n",
    "    showline = True,\n",
    "    title = \"\",\n",
    "    type = \"category\"\n",
    "  )\n",
    ")\n",
    "\n",
    "fig = go.Figure(data=data, layout=layout)\n",
    "py.iplot(fig, filename = 'subcategory-axes')"
   ]
  },
  {
   "cell_type": "markdown",
   "metadata": {},
   "source": [
    "#### Logarithmic Axes"
   ]
  },
  {
   "cell_type": "code",
   "execution_count": 8,
   "metadata": {},
   "outputs": [
    {
     "data": {
      "text/html": [
       "<iframe id=\"igraph\" scrolling=\"no\" style=\"border:none;\" seamless=\"seamless\" src=\"https://plot.ly/~PythonPlotBot/2064.embed\" height=\"525px\" width=\"100%\"></iframe>"
      ],
      "text/plain": [
       "<plotly.tools.PlotlyDisplay object>"
      ]
     },
     "execution_count": 8,
     "metadata": {},
     "output_type": "execute_result"
    }
   ],
   "source": [
    "import plotly.plotly as py\n",
    "import plotly.graph_objs as go\n",
    "\n",
    "trace1 = go.Scatter(\n",
    "    x=[0, 1, 2, 3, 4, 5, 6, 7, 8],\n",
    "    y=[8, 7, 6, 5, 4, 3, 2, 1, 0]\n",
    ")\n",
    "trace2 = go.Scatter(\n",
    "    x=[0, 1, 2, 3, 4, 5, 6, 7, 8],\n",
    "    y=[0, 1, 2, 3, 4, 5, 6, 7, 8]\n",
    ")\n",
    "data = [trace1, trace2]\n",
    "layout = go.Layout(\n",
    "    xaxis=dict(\n",
    "        type='log',\n",
    "        autorange=True\n",
    "    ),\n",
    "    yaxis=dict(\n",
    "        type='log',\n",
    "        autorange=True\n",
    "    )\n",
    ")\n",
    "fig = go.Figure(data=data, layout=layout)\n",
    "py.iplot(fig, filename='axes-range-type')"
   ]
  },
  {
   "cell_type": "markdown",
   "metadata": {},
   "source": [
    "### Fixed Ratio Axes"
   ]
  },
  {
   "cell_type": "code",
   "execution_count": 9,
   "metadata": {},
   "outputs": [
    {
     "data": {
      "text/html": [
       "<iframe id=\"igraph\" scrolling=\"no\" style=\"border:none;\" seamless=\"seamless\" src=\"https://plot.ly/~PythonPlotBot/2066.embed\" height=\"500px\" width=\"800px\"></iframe>"
      ],
      "text/plain": [
       "<plotly.tools.PlotlyDisplay object>"
      ]
     },
     "execution_count": 9,
     "metadata": {},
     "output_type": "execute_result"
    }
   ],
   "source": [
    "import plotly.plotly as py\n",
    "import plotly.graph_objs as go\n",
    "\n",
    "trace0 = go.Scatter(\n",
    "  x = [0,1,1,0,0,1,1,2,2,3,3,2,2,3],\n",
    "  y = [0,0,1,1,3,3,2,2,3,3,1,1,0,0]\n",
    ")\n",
    "\n",
    "trace1 = go.Scatter(\n",
    "  x = [0,1,2,3],\n",
    "  y = [1,2,4,8],\n",
    "  yaxis = \"y2\"\n",
    ")\n",
    "\n",
    "trace2 = go.Scatter(\n",
    "  x = [1,10,100,10,1],\n",
    "  y = [0,1,2,3,4],\n",
    "  xaxis = \"x2\",\n",
    "  yaxis =\"y3\",\n",
    ")\n",
    "\n",
    "trace3 = go.Scatter(\n",
    "  x = [1,100,30,80,1],\n",
    "  y = [1,1.5,2,2.5,3],\n",
    "  xaxis = \"x2\",\n",
    "  yaxis = \"y4\"\n",
    ")\n",
    "\n",
    "data = [trace0,trace1,trace2,trace3]\n",
    "\n",
    "layout = go.Layout(\n",
    "    width = 800,\n",
    "    height = 500,\n",
    "    title = \"fixed-ratio axes\",\n",
    "    xaxis = dict(\n",
    "      nticks = 10,\n",
    "      domain = [0, 0.45],\n",
    "      title = \"shared X axis\"\n",
    "    ),\n",
    "    yaxis = dict(\n",
    "      scaleanchor = \"x\",\n",
    "      domain = [0, 0.45],\n",
    "      title = \"1:1\"\n",
    "    ),\n",
    "    yaxis2 = dict(\n",
    "      scaleanchor = \"x\",\n",
    "      scaleratio = 0.2,\n",
    "      domain = [0.55,1],\n",
    "      title = \"1:5\"\n",
    "    ),\n",
    "    xaxis2 = dict(\n",
    "      type = \"log\",\n",
    "      domain = [0.55, 1],\n",
    "      anchor = \"y3\",\n",
    "      title = \"unconstrained log X\"\n",
    "    ),\n",
    "    yaxis3 = dict(\n",
    "      domain = [0, 0.45],\n",
    "      anchor = \"x2\",\n",
    "      title = \"Scale matches ->\"\n",
    "    ),\n",
    "    yaxis4 = dict(\n",
    "      scaleanchor = \"y3\",\n",
    "      domain = [0.55, 1],\n",
    "      anchor = \"x2\",\n",
    "      title = \"Scale matches <-\"\n",
    "    ),\n",
    "    showlegend= False\n",
    ")\n",
    "\n",
    "fig = go.Figure(data=data, layout=layout)\n",
    "py.iplot(fig, filename = \"aspect-ratio\")"
   ]
  },
  {
   "cell_type": "markdown",
   "metadata": {},
   "source": [
    "#### Reversed Axes"
   ]
  },
  {
   "cell_type": "code",
   "execution_count": 10,
   "metadata": {},
   "outputs": [
    {
     "data": {
      "text/html": [
       "<iframe id=\"igraph\" scrolling=\"no\" style=\"border:none;\" seamless=\"seamless\" src=\"https://plot.ly/~PythonPlotBot/2068.embed\" height=\"525px\" width=\"100%\"></iframe>"
      ],
      "text/plain": [
       "<plotly.tools.PlotlyDisplay object>"
      ]
     },
     "execution_count": 10,
     "metadata": {},
     "output_type": "execute_result"
    }
   ],
   "source": [
    "import plotly.plotly as py\n",
    "import plotly.graph_objs as go\n",
    "\n",
    "data = [\n",
    "    go.Scatter(\n",
    "        x=[1, 2],\n",
    "        y=[1, 2]\n",
    "    )\n",
    "]\n",
    "layout = go.Layout(\n",
    "    xaxis=dict(\n",
    "        autorange='reversed'\n",
    "    )\n",
    ")\n",
    "fig = go.Figure(data=data, layout=layout)\n",
    "py.iplot(fig, filename='axes-reversed')"
   ]
  },
  {
   "cell_type": "markdown",
   "metadata": {},
   "source": [
    "#### Reversed Axes with Range ( Min/Max ) Specified"
   ]
  },
  {
   "cell_type": "code",
   "execution_count": 11,
   "metadata": {},
   "outputs": [
    {
     "data": {
      "text/html": [
       "<iframe id=\"igraph\" scrolling=\"no\" style=\"border:none;\" seamless=\"seamless\" src=\"https://plot.ly/~PythonPlotBot/2070.embed\" height=\"525px\" width=\"100%\"></iframe>"
      ],
      "text/plain": [
       "<plotly.tools.PlotlyDisplay object>"
      ]
     },
     "execution_count": 11,
     "metadata": {},
     "output_type": "execute_result"
    }
   ],
   "source": [
    "import plotly.plotly as py\n",
    "import plotly.graph_objs as go\n",
    "\n",
    "import numpy as np\n",
    "\n",
    "x = np.linspace(0, 10, 100)\n",
    "y = np.random.randint(1, 100, 100)\n",
    "\n",
    "trace = go.Scatter(x=x, y=y, mode='markers')\n",
    "data = [trace]\n",
    "layout = go.Layout(title='Reversed Axis with Min/Max', xaxis=dict(autorange='reversed', range=[0, 10]))\n",
    "\n",
    "fig = go.Figure(data=data, layout=layout)\n",
    "py.iplot(fig, filename='example-reversed-axis-with-min-max')"
   ]
  },
  {
   "cell_type": "markdown",
   "metadata": {},
   "source": [
    "#### <code>nonnegative</code>, <code>tozero</code>, and <code>normal</code> Rangemode"
   ]
  },
  {
   "cell_type": "code",
   "execution_count": 13,
   "metadata": {},
   "outputs": [
    {
     "data": {
      "text/html": [
       "<iframe id=\"igraph\" scrolling=\"no\" style=\"border:none;\" seamless=\"seamless\" src=\"https://plot.ly/~PythonPlotBot/2072.embed\" height=\"525px\" width=\"100%\"></iframe>"
      ],
      "text/plain": [
       "<plotly.tools.PlotlyDisplay object>"
      ]
     },
     "execution_count": 13,
     "metadata": {},
     "output_type": "execute_result"
    }
   ],
   "source": [
    "import plotly.plotly as py\n",
    "import plotly.graph_objs as go\n",
    "\n",
    "data = [\n",
    "    go.Scatter(\n",
    "        x=[2, 4, 6],\n",
    "        y=[-3, 0, 3]\n",
    "    )\n",
    "]\n",
    "layout = go.Layout(\n",
    "    showlegend=False,\n",
    "    xaxis=dict(\n",
    "        rangemode='tozero',\n",
    "        autorange=True\n",
    "    ),\n",
    "    yaxis=dict(\n",
    "        rangemode='nonnegative',\n",
    "        autorange=True\n",
    "    )\n",
    ")\n",
    "fig = go.Figure(data=data, layout=layout)\n",
    "py.iplot(fig, filename='axes-range-mode')"
   ]
  },
  {
   "cell_type": "markdown",
   "metadata": {},
   "source": [
    "#### Enumerated Ticks with Tickvals and Ticktext"
   ]
  },
  {
   "cell_type": "code",
   "execution_count": 16,
   "metadata": {},
   "outputs": [
    {
     "data": {
      "text/html": [
       "<iframe id=\"igraph\" scrolling=\"no\" style=\"border:none;\" seamless=\"seamless\" src=\"https://plot.ly/~PythonPlotBot/2835.embed\" height=\"525px\" width=\"100%\"></iframe>"
      ],
      "text/plain": [
       "<plotly.tools.PlotlyDisplay object>"
      ]
     },
     "execution_count": 16,
     "metadata": {},
     "output_type": "execute_result"
    }
   ],
   "source": [
    "import plotly.plotly as py\n",
    "import plotly.graph_objs as go \n",
    "\n",
    "import pandas as pd\n",
    "\n",
    "# get and filter apple data\n",
    "apple_df = pd.read_csv('https://raw.githubusercontent.com/plotly/datasets/master/finance-charts-apple.csv')\n",
    "apple_df_2016 = apple_df[apple_df.Date < '2017'][apple_df.Date > '2016']\n",
    "\n",
    "# get clean and filter tesla data\n",
    "tesla_df = pd.read_csv('https://raw.githubusercontent.com/plotly/datasets/master/tesla-stock-price.csv')\n",
    "tesla_df.date = pd.to_datetime(tesla_df.date)\n",
    "tesla_df_2016 = tesla_df[tesla_df.date < '2017'][tesla_df.date > '2016']\n",
    "\n",
    "# set x-axis labels and their corresponding data values\n",
    "labels = ['End of Q1', 'End of Q2', 'End of Q3', 'End of Q4']\n",
    "tickvals = ['2016-04-01', '2016-07-01', '2016-10-01', apple_df_2016.Date.max()]\n",
    "\n",
    "data=[\n",
    "    go.Scatter(\n",
    "        x = apple_df_2016.Date, \n",
    "        y=apple_df_2016['AAPL.High'], \n",
    "        name='Apple', \n",
    "        marker=dict(color='#851e52'),\n",
    "    ),\n",
    "    go.Scatter(\n",
    "        x=tesla_df_2016.date, \n",
    "        y=tesla_df_2016.high, \n",
    "        name='Tesla', \n",
    "        yaxis='y2',\n",
    "        marker=dict(color='#d3560e'),\n",
    "    ),\n",
    "]\n",
    "\n",
    "layout = go.Layout(\n",
    "    title='2016 Quarterly Stock Trends',\n",
    "    xaxis=go.layout.XAxis(\n",
    "        ticktext=labels,\n",
    "        tickvals=tickvals\n",
    "    ),\n",
    "    yaxis2= dict(\n",
    "        overlaying='y',\n",
    "        side='right',\n",
    "        showgrid=False,\n",
    "    )\n",
    ")\n",
    "fig = go.Figure(data, layout)\n",
    "\n",
    "py.iplot(fig, filename='tickvals-and-ticktext')"
   ]
  },
  {
   "cell_type": "markdown",
   "metadata": {},
   "source": [
    "#### Reference\n",
    "See https://plot.ly/python/reference/#layout-xaxis and https://plot.ly/python/reference/#layout-yaxis for more information and chart attribute options!"
   ]
  },
  {
   "cell_type": "code",
   "execution_count": 17,
   "metadata": {
    "scrolled": false
   },
   "outputs": [
    {
     "data": {
      "text/html": [
       "<link href=\"//fonts.googleapis.com/css?family=Open+Sans:600,400,300,200|Inconsolata|Ubuntu+Mono:400,700\" rel=\"stylesheet\" type=\"text/css\" />"
      ],
      "text/plain": [
       "<IPython.core.display.HTML object>"
      ]
     },
     "metadata": {},
     "output_type": "display_data"
    },
    {
     "data": {
      "text/html": [
       "<link rel=\"stylesheet\" type=\"text/css\" href=\"http://help.plot.ly/documentation/all_static/css/ipython-notebook-custom.css\">"
      ],
      "text/plain": [
       "<IPython.core.display.HTML object>"
      ]
     },
     "metadata": {},
     "output_type": "display_data"
    },
    {
     "name": "stdout",
     "output_type": "stream",
     "text": [
      "Collecting git+https://github.com/plotly/publisher.git\n",
      "  Cloning https://github.com/plotly/publisher.git to /tmp/pip-req-build-WjAJLz\n",
      "Building wheels for collected packages: publisher\n",
      "  Running setup.py bdist_wheel for publisher ... \u001b[?25ldone\n",
      "\u001b[?25h  Stored in directory: /tmp/pip-ephem-wheel-cache-zV6Bvh/wheels/99/3e/a0/fbd22ba24cca72bdbaba53dbc23c1768755fb17b3af0f33966\n",
      "Successfully built publisher\n",
      "Installing collected packages: publisher\n",
      "  Found existing installation: publisher 0.11\n",
      "    Uninstalling publisher-0.11:\n",
      "      Successfully uninstalled publisher-0.11\n",
      "Successfully installed publisher-0.11\n",
      "\u001b[33mYou are using pip version 10.0.1, however version 18.1 is available.\n",
      "You should consider upgrading via the 'pip install --upgrade pip' command.\u001b[0m\n"
     ]
    }
   ],
   "source": [
    "from IPython.display import display, HTML\n",
    "\n",
    "display(HTML('<link href=\"//fonts.googleapis.com/css?family=Open+Sans:600,400,300,200|Inconsolata|Ubuntu+Mono:400,700\" rel=\"stylesheet\" type=\"text/css\" />'))\n",
    "display(HTML('<link rel=\"stylesheet\" type=\"text/css\" href=\"http://help.plot.ly/documentation/all_static/css/ipython-notebook-custom.css\">'))\n",
    "\n",
    "! pip install git+https://github.com/plotly/publisher.git --upgrade\n",
    "import publisher\n",
    "publisher.publish(\n",
    "    'axes.ipynb', 'python/axes/', 'Axes | plotly',\n",
    "    'How to adjust axes properties in python. Seven examples of linear and logarithmic axes, axes titles, and styling and coloring axes and grid lines.',\n",
    "    title = 'Axes | plotly',\n",
    "    name = 'Axes',\n",
    "    has_thumbnail='true', thumbnail='thumbnail/your-tutorial-chart.jpg', \n",
    "    language='python', page_type='example_index',\n",
    "    display_as='layout_opt', order=3,\n",
    "    ipynb= '~notebook_demo/95')"
   ]
  },
  {
   "cell_type": "code",
   "execution_count": null,
   "metadata": {
    "collapsed": true
   },
   "outputs": [],
   "source": []
  }
 ],
 "metadata": {
  "anaconda-cloud": {},
  "kernelspec": {
   "display_name": "Python 2",
   "language": "python",
   "name": "python2"
  },
  "language_info": {
   "codemirror_mode": {
    "name": "ipython",
    "version": 2
   },
   "file_extension": ".py",
   "mimetype": "text/x-python",
   "name": "python",
   "nbconvert_exporter": "python",
   "pygments_lexer": "ipython2",
   "version": "2.7.15rc1"
  }
 },
 "nbformat": 4,
 "nbformat_minor": 1
}
