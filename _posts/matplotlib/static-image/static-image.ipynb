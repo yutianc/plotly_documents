{
 "cells": [
  {
   "cell_type": "markdown",
   "metadata": {},
   "source": [
    "#### New to Plotly?\n",
    "Plotly's Python library is free and open source! [Get started](https://plot.ly/python/getting-started/) by downloading the client and [reading the primer](https://plot.ly/python/getting-started/).\n",
    "<br>You can set up Plotly to work in [online](https://plot.ly/python/getting-started/#initialization-for-online-plotting) or [offline](https://plot.ly/python/getting-started/#initialization-for-offline-plotting) mode, or in [jupyter notebooks](https://plot.ly/python/getting-started/#start-plotting-online).\n",
    "<br>We also have a quick-reference [cheatsheet](https://images.plot.ly/plotly-documentation/images/python_cheat_sheet.pdf) (new!) to help you get started!"
   ]
  },
  {
   "cell_type": "markdown",
   "metadata": {},
   "source": [
    "#### Version Check\n",
    "Plotly's python package is updated frequently. Run `pip install plotly --upgrade` to use the latest version."
   ]
  },
  {
   "cell_type": "code",
   "execution_count": 1,
   "metadata": {},
   "outputs": [
    {
     "data": {
      "text/plain": [
       "'3.1.1'"
      ]
     },
     "execution_count": 1,
     "metadata": {},
     "output_type": "execute_result"
    }
   ],
   "source": [
    "import plotly\n",
    "plotly.__version__"
   ]
  },
  {
   "cell_type": "code",
   "execution_count": 2,
   "metadata": {},
   "outputs": [],
   "source": [
    "# Import modules\n",
    "import plotly.plotly as py\n",
    "import plotly.tools as tls\n",
    "import matplotlib.pyplot as plt\n",
    "\n",
    "# Create a plot\n",
    "x = [1, 2]\n",
    "y = [2, 4]\n",
    "plt.plot(x, y)\n",
    "\n",
    "# Get Matplotlib Figure\n",
    "mpl_fig = plt.gcf() \n",
    "\n",
    "# Convert to plotly figure\n",
    "plotly_fig = tls.mpl_to_plotly(mpl_fig) \n",
    "\n",
    "# Save image\n",
    "py.image.save_as(plotly_fig, 'your_image_filename.png') "
   ]
  },
  {
   "cell_type": "markdown",
   "metadata": {},
   "source": [
    "In Addition, you can specify the size of the matplotlib/plotly figure to be saved by using following method:"
   ]
  },
  {
   "cell_type": "code",
   "execution_count": 4,
   "metadata": {},
   "outputs": [],
   "source": [
    "import plotly.plotly as py\n",
    "py.image.save_as(plotly_fig, 'your_image_filename.png', height=desired_height, width=desired_width) "
   ]
  },
  {
   "cell_type": "markdown",
   "metadata": {},
   "source": [
    "You can also display inline static images in IPython:"
   ]
  },
  {
   "cell_type": "code",
   "execution_count": 5,
   "metadata": {},
   "outputs": [
    {
     "data": {
      "image/png": "[encoded data removed]",
      "text/plain": [
       "<IPython.core.display.Image object>"
      ]
     },
     "metadata": {},
     "output_type": "display_data"
    }
   ],
   "source": [
    "import plotly.plotly as py\n",
    "py.image.ishow(plotly_fig)"
   ]
  },
  {
   "cell_type": "markdown",
   "metadata": {},
   "source": [
    "You can view the static version of any Plotly graph by appending `.png`, `.pdf`, `.eps`, or `.svg` to the end of the URL. For example, view the static image of https://plot.ly/~chris/1638 at https://plot.ly/~chris/1638.png."
   ]
  },
  {
   "cell_type": "markdown",
   "metadata": {},
   "source": [
    "Combine this with the requests package and download the latest version of your Plotly graph:"
   ]
  },
  {
   "cell_type": "code",
   "execution_count": 6,
   "metadata": {},
   "outputs": [],
   "source": [
    "import requests\n",
    "image_bytes = requests.get('https://plot.ly/~chris/1638.png').content"
   ]
  },
  {
   "cell_type": "markdown",
   "metadata": {},
   "source": [
    "### Reference"
   ]
  },
  {
   "cell_type": "markdown",
   "metadata": {},
   "source": [
    "See [https://plot.ly/python/static-image-export/](https://plot.ly/python/static-image-export/)  for more information and chart attribute options!"
   ]
  },
  {
   "cell_type": "code",
   "execution_count": 7,
   "metadata": {},
   "outputs": [
    {
     "name": "stdout",
     "output_type": "stream",
     "text": [
      "Help on class image in module plotly.plotly.plotly:\n",
      "\n",
      "class image\n",
      " |  Helper functions wrapped around plotly's static image generation api.\n",
      " |  \n",
      " |  Class methods defined here:\n",
      " |  \n",
      " |  ishow(cls, figure_or_data, format='png', width=None, height=None, scale=None) from __builtin__.classobj\n",
      " |      Display a static image of the plot described by `figure_or_data`\n",
      " |      in an IPython Notebook.\n",
      " |      \n",
      " |      positional arguments:\n",
      " |      - figure_or_data: The figure dict-like or data list-like object that\n",
      " |                        describes a plotly figure.\n",
      " |                        Same argument used in `py.plot`, `py.iplot`,\n",
      " |                        see https://plot.ly/python for examples\n",
      " |      - format: 'png', 'svg', 'jpeg', 'pdf'\n",
      " |      - width: output width\n",
      " |      - height: output height\n",
      " |      - scale: Increase the resolution of the image by `scale` amount\n",
      " |             Only valid for PNG and JPEG images.\n",
      " |      \n",
      " |      example:\n",
      " |      ```\n",
      " |      import plotly.plotly as py\n",
      " |      fig = {'data': [{'x': [1, 2, 3], 'y': [3, 1, 5], 'type': 'bar'}]}\n",
      " |      py.image.ishow(fig, 'png', scale=3)\n",
      " |  \n",
      " |  save_as(cls, figure_or_data, filename, format=None, width=None, height=None, scale=None) from __builtin__.classobj\n",
      " |      Save a image of the plot described by `figure_or_data` locally as\n",
      " |      `filename`.\n",
      " |      \n",
      " |      Valid image formats are 'png', 'svg', 'jpeg', and 'pdf'.\n",
      " |      The format is taken as the extension of the filename or as the\n",
      " |      supplied format.\n",
      " |      \n",
      " |      positional arguments:\n",
      " |      - figure_or_data: The figure dict-like or data list-like object that\n",
      " |                        describes a plotly figure.\n",
      " |                        Same argument used in `py.plot`, `py.iplot`,\n",
      " |                        see https://plot.ly/python for examples\n",
      " |      - filename: The filepath to save the image to\n",
      " |      - format: 'png', 'svg', 'jpeg', 'pdf'\n",
      " |      - width: output width\n",
      " |      - height: output height\n",
      " |      - scale: Increase the resolution of the image by `scale` amount\n",
      " |             Only valid for PNG and JPEG images.\n",
      " |      \n",
      " |      example:\n",
      " |      ```\n",
      " |      import plotly.plotly as py\n",
      " |      fig = {'data': [{'x': [1, 2, 3], 'y': [3, 1, 5], 'type': 'bar'}]}\n",
      " |      py.image.save_as(fig, 'my_image.png', scale=3)\n",
      " |      ```\n",
      " |  \n",
      " |  ----------------------------------------------------------------------\n",
      " |  Static methods defined here:\n",
      " |  \n",
      " |  get(figure_or_data, format='png', width=None, height=None, scale=None)\n",
      " |      Return a static image of the plot described by `figure_or_data`.\n",
      " |      \n",
      " |      positional arguments:\n",
      " |      - figure_or_data: The figure dict-like or data list-like object that\n",
      " |                        describes a plotly figure.\n",
      " |                        Same argument used in `py.plot`, `py.iplot`,\n",
      " |                        see https://plot.ly/python for examples\n",
      " |      - format: 'png', 'svg', 'jpeg', 'pdf'\n",
      " |      - width: output width\n",
      " |      - height: output height\n",
      " |      - scale: Increase the resolution of the image by `scale`\n",
      " |               amount (e.g. `3`)\n",
      " |               Only valid for PNG and JPEG images.\n",
      " |      \n",
      " |      example:\n",
      " |      ```\n",
      " |      import plotly.plotly as py\n",
      " |      fig = {'data': [{'x': [1, 2, 3], 'y': [3, 1, 5], 'type': 'bar'}]}\n",
      " |      py.image.get(fig, 'png', scale=3)\n",
      " |      ```\n",
      "\n"
     ]
    }
   ],
   "source": [
    "help(py.image)"
   ]
  },
  {
   "cell_type": "code",
   "execution_count": 11,
   "metadata": {},
   "outputs": [
    {
     "data": {
      "text/html": [
       "<link href=\"//fonts.googleapis.com/css?family=Open+Sans:600,400,300,200|Inconsolata|Ubuntu+Mono:400,700\" rel=\"stylesheet\" type=\"text/css\" />"
      ],
      "text/plain": [
       "<IPython.core.display.HTML object>"
      ]
     },
     "metadata": {},
     "output_type": "display_data"
    },
    {
     "data": {
      "text/html": [
       "<link rel=\"stylesheet\" type=\"text/css\" href=\"http://help.plot.ly/documentation/all_static/css/ipython-notebook-custom.css\">"
      ],
      "text/plain": [
       "<IPython.core.display.HTML object>"
      ]
     },
     "metadata": {},
     "output_type": "display_data"
    },
    {
     "name": "stdout",
     "output_type": "stream",
     "text": [
      "Collecting git+https://github.com/plotly/publisher.git\n",
      "  Cloning https://github.com/plotly/publisher.git to c:\\users\\thars\\appdata\\local\\temp\\pip-req-build-vqazbm\n",
      "Building wheels for collected packages: publisher\n",
      "  Running setup.py bdist_wheel for publisher: started\n",
      "  Running setup.py bdist_wheel for publisher: finished with status 'done'\n",
      "  Stored in directory: c:\\users\\thars\\appdata\\local\\temp\\pip-ephem-wheel-cache-23ha8h\\wheels\\99\\3e\\a0\\fbd22ba24cca72bdbaba53dbc23c1768755fb17b3af0f33966\n",
      "Successfully built publisher\n",
      "Installing collected packages: publisher\n",
      "  Found existing installation: publisher 0.11\n",
      "    Uninstalling publisher-0.11:\n",
      "      Successfully uninstalled publisher-0.11\n",
      "Successfully installed publisher-0.11\n"
     ]
    }
   ],
   "source": [
    "from IPython.display import display, HTML\n",
    "\n",
    "display(HTML('<link href=\"//fonts.googleapis.com/css?family=Open+Sans:600,400,300,200|Inconsolata|Ubuntu+Mono:400,700\" rel=\"stylesheet\" type=\"text/css\" />'))\n",
    "display(HTML('<link rel=\"stylesheet\" type=\"text/css\" href=\"http://help.plot.ly/documentation/all_static/css/ipython-notebook-custom.css\">'))\n",
    "\n",
    "! pip install git+https://github.com/plotly/publisher.git --upgrade\n",
    "import publisher\n",
    "publisher.publish(\n",
    "    'static-image.ipynb', 'matplotlib/static-image/', 'Matplotlib Static Image Export',\n",
    "    'How to export plotly matplotlib graphs as static images in Python. Plotly supports png, svg, jpg, and pdf image export.',\n",
    "    title = 'Matplotlib Static Image Export | Plotly',\n",
    "    has_thumbnail='true', \n",
    "    thumbnail='thumbnail/png-export.png', \n",
    "    language='matplotlib', \n",
    "    page_type='example_index',\n",
    "    display_as='basic', order=5,\n",
    "    ipynb='~notebook_demo/232')"
   ]
  },
  {
   "cell_type": "code",
   "execution_count": null,
   "metadata": {},
   "outputs": [],
   "source": []
  }
 ],
 "metadata": {
  "kernelspec": {
   "display_name": "Python 2",
   "language": "python",
   "name": "python2"
  },
  "language_info": {
   "codemirror_mode": {
    "name": "ipython",
    "version": 2
   },
   "file_extension": ".py",
   "mimetype": "text/x-python",
   "name": "python",
   "nbconvert_exporter": "python",
   "pygments_lexer": "ipython2",
   "version": "2.7.14"
  }
 },
 "nbformat": 4,
 "nbformat_minor": 2
}
