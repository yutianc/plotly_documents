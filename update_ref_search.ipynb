{
 "cells": [
  {
   "cell_type": "code",
   "execution_count": null,
   "metadata": {},
   "outputs": [],
   "source": [
    "import json\n",
    "from collections import OrderedDict\n",
    "import os\n",
    "\n",
    "from algoliasearch import algoliasearch\n",
    "\n",
    "## Algolia Credentials\n",
    "\n",
    "client = algoliasearch.Client(\"7EK9KHJW8M\", os.environ['ALGOLIA_API_KEY'])\n",
    "index = client.init_index('schema')\n",
    "\n",
    "## Load plotschema.json\n",
    "# Note _data/plotschema.json is updated upon each deploy\n",
    "\n",
    "p = json.load(open('_data/plotschema.json'))\n",
    "schema = []"
   ]
  },
  {
   "cell_type": "code",
   "execution_count": null,
   "metadata": {},
   "outputs": [],
   "source": [
    "## Data Level 1: Traces\n",
    "# Add trace dictionaries to schema array.\n",
    "# The trace dictionary include name: trace name, permalink: reference/#trace-name, and description if applicable.\n",
    "\n",
    "for i in p['schema']['traces']:\n",
    "    trace = {}\n",
    "    trace ['name'] = i\n",
    "    trace ['permalink'] = 'reference/#'+i\n",
    "    if p['schema']['traces'][i]['meta']:\n",
    "        trace ['description'] = (p['schema']['traces'][i]['meta']['description']).replace('*', '\"')\n",
    "    else: pass\n",
    "    schema.append(trace)"
   ]
  },
  {
   "cell_type": "code",
   "execution_count": null,
   "metadata": {},
   "outputs": [],
   "source": [
    "def next_level(previous_level,chain_dict):\n",
    "    for sub_attr in previous_level:\n",
    "        try:\n",
    "            if isinstance(previous_level[sub_attr],dict):\n",
    "                if not any(value in sub_attr for value in (\"src\", \"_deprecated\", \"impliedEdits\", \"uid\", \"editType\")):\n",
    "                    try:\n",
    "                        attribute = {}\n",
    "                        attribute ['name'] = chain_dict['name']+' > '+sub_attr\n",
    "                        attribute ['permalink'] = chain_dict['permalink']+'-'+sub_attr\n",
    "                        attribute ['description'] = (previous_level[sub_attr]['description']).replace('*', '\"')\n",
    "                        schema.append(attribute)\n",
    "                        next_level(previous_level[sub_attr],{'name':attribute['name'], 'permalink':attribute['permalink']})\n",
    "                    except:\n",
    "                        attribute = {}\n",
    "                        attribute ['name'] = chain_dict['name']+' > '+sub_attr\n",
    "                        attribute ['permalink'] = chain_dict['permalink']+'-'+sub_attr\n",
    "                        attribute ['description'] = 'Properties for '+sub_attr\n",
    "                        schema.append(attribute)\n",
    "                        next_level(previous_level[sub_attr],{'name':attribute['name'], 'permalink':attribute['permalink']})\n",
    "        except:\n",
    "            pass"
   ]
  },
  {
   "cell_type": "code",
   "execution_count": null,
   "metadata": {},
   "outputs": [],
   "source": [
    "for i in p['schema']['traces']:\n",
    "    chain_dict = {'name':i, 'permalink':'reference/#'+i }\n",
    "    next_level(p['schema']['traces'][i]['attributes'], chain_dict)"
   ]
  },
  {
   "cell_type": "code",
   "execution_count": null,
   "metadata": {},
   "outputs": [],
   "source": [
    "next_level(p['schema']['layout']['layoutAttributes'], {'name':'Layout', 'permalink':'reference/#layout-'})"
   ]
  },
  {
   "cell_type": "code",
   "execution_count": null,
   "metadata": {},
   "outputs": [],
   "source": [
    "# keep a list of the names of of refs to tests against\n",
    "with open('ref_names.txt', 'w') as f:\n",
    "    for name in sorted([s['name'] for s in schema]):\n",
    "        f.write('{}\\n'.format(name))\n",
    "\n",
    "len(schema)"
   ]
  },
  {
   "cell_type": "code",
   "execution_count": null,
   "metadata": {},
   "outputs": [],
   "source": [
    "## Send to Algolia\n",
    "\n",
    "index.clear_index()\n",
    "index.add_objects(schema)"
   ]
  },
  {
   "cell_type": "code",
   "execution_count": null,
   "metadata": {},
   "outputs": [],
   "source": []
  },
  {
   "cell_type": "code",
   "execution_count": null,
   "metadata": {},
   "outputs": [],
   "source": []
  }
 ],
 "metadata": {
  "kernelspec": {
   "display_name": "Python 3",
   "language": "python",
   "name": "python3"
  },
  "language_info": {
   "codemirror_mode": {
    "name": "ipython",
    "version": 3
   },
   "file_extension": ".py",
   "mimetype": "text/x-python",
   "name": "python",
   "nbconvert_exporter": "python",
   "pygments_lexer": "ipython3",
   "version": "3.6.5"
  }
 },
 "nbformat": 4,
 "nbformat_minor": 2
}
